{
 "cells": [
  {
   "cell_type": "markdown",
   "id": "2de5d070",
   "metadata": {},
   "source": [
    "### Import Libraries"
   ]
  },
  {
   "cell_type": "code",
   "execution_count": 1,
   "id": "5726f023",
   "metadata": {},
   "outputs": [],
   "source": [
    "#Importing Libraries\n",
    "import numpy as np\n",
    "import pandas as pd\n",
    "import matplotlib.pyplot as plt\n",
    "from sklearn.preprocessing import StandardScaler\n",
    "from sklearn.model_selection import cross_val_score, GridSearchCV\n",
    "from sklearn.model_selection import train_test_split\n",
    "from sklearn.impute import SimpleImputer\n",
    "from sklearn.svm import SVC"
   ]
  },
  {
   "cell_type": "markdown",
   "id": "d40c9737",
   "metadata": {},
   "source": [
    "### Data Preprocessing"
   ]
  },
  {
   "cell_type": "code",
   "execution_count": 2,
   "id": "f7b2ee8a",
   "metadata": {},
   "outputs": [],
   "source": [
    "#Importing data\n",
    "data=pd.read_csv(\"fingertapping_features_severity_diagnosis_June13_2023.csv\")"
   ]
  },
  {
   "cell_type": "code",
   "execution_count": 3,
   "id": "90ecb6b4",
   "metadata": {},
   "outputs": [],
   "source": [
    "#Delete ratings 3 and 4\n",
    "data = data[(data.Rating != 3) & (data.Rating !=4)]"
   ]
  },
  {
   "cell_type": "code",
   "execution_count": 4,
   "id": "9ce2c7fb",
   "metadata": {},
   "outputs": [],
   "source": [
    "#Features\n",
    "X=data.loc[:, 'wrist_mvmnt_x_median':'acceleration_min_trimmed']\n",
    "#Label\n",
    "y=data[\"Rating\"]"
   ]
  },
  {
   "cell_type": "code",
   "execution_count": 5,
   "id": "38b5f428",
   "metadata": {},
   "outputs": [
    {
     "data": {
      "text/plain": [
       "array([2, 1, 0], dtype=int64)"
      ]
     },
     "execution_count": 5,
     "metadata": {},
     "output_type": "execute_result"
    }
   ],
   "source": [
    "#Checking for deleted values\n",
    "y.unique()"
   ]
  },
  {
   "cell_type": "code",
   "execution_count": 6,
   "id": "2897d5e1",
   "metadata": {},
   "outputs": [
    {
     "data": {
      "text/html": [
       "<div>\n",
       "<style scoped>\n",
       "    .dataframe tbody tr th:only-of-type {\n",
       "        vertical-align: middle;\n",
       "    }\n",
       "\n",
       "    .dataframe tbody tr th {\n",
       "        vertical-align: top;\n",
       "    }\n",
       "\n",
       "    .dataframe thead th {\n",
       "        text-align: right;\n",
       "    }\n",
       "</style>\n",
       "<table border=\"1\" class=\"dataframe\">\n",
       "  <thead>\n",
       "    <tr style=\"text-align: right;\">\n",
       "      <th></th>\n",
       "      <th>wrist_mvmnt_x_median</th>\n",
       "      <th>wrist_mvmnt_x_quartile_range</th>\n",
       "      <th>wrist_mvmnt_x_mean</th>\n",
       "      <th>wrist_mvmnt_x_min</th>\n",
       "      <th>wrist_mvmnt_x_max</th>\n",
       "      <th>wrist_mvmnt_x_stdev</th>\n",
       "      <th>wrist_mvmnt_y_median</th>\n",
       "      <th>wrist_mvmnt_y_quartile_range</th>\n",
       "      <th>wrist_mvmnt_y_mean</th>\n",
       "      <th>wrist_mvmnt_y_min</th>\n",
       "      <th>...</th>\n",
       "      <th>acceleration_median_denoised</th>\n",
       "      <th>acceleration_quartile_range_denoised</th>\n",
       "      <th>acceleration_mean_denoised</th>\n",
       "      <th>acceleration_min_denoised</th>\n",
       "      <th>acceleration_max_denoised</th>\n",
       "      <th>acceleration_stdev_denoised</th>\n",
       "      <th>acceleration_median_trimmed</th>\n",
       "      <th>acceleration_quartile_range_trimmed</th>\n",
       "      <th>acceleration_mean_trimmed</th>\n",
       "      <th>acceleration_min_trimmed</th>\n",
       "    </tr>\n",
       "  </thead>\n",
       "  <tbody>\n",
       "    <tr>\n",
       "      <th>0</th>\n",
       "      <td>4.238080</td>\n",
       "      <td>4.234098</td>\n",
       "      <td>4.289725</td>\n",
       "      <td>0.000000</td>\n",
       "      <td>20.329711</td>\n",
       "      <td>4.199564</td>\n",
       "      <td>8.462262</td>\n",
       "      <td>8.810459</td>\n",
       "      <td>8.439464</td>\n",
       "      <td>0.000000</td>\n",
       "      <td>...</td>\n",
       "      <td>3000.508475</td>\n",
       "      <td>3328.705707</td>\n",
       "      <td>3797.272636</td>\n",
       "      <td>38.649003</td>\n",
       "      <td>17384.22069</td>\n",
       "      <td>3188.396515</td>\n",
       "      <td>2902.806466</td>\n",
       "      <td>2197.490376</td>\n",
       "      <td>3247.331833</td>\n",
       "      <td>38.649003</td>\n",
       "    </tr>\n",
       "    <tr>\n",
       "      <th>1</th>\n",
       "      <td>2.353139</td>\n",
       "      <td>2.676330</td>\n",
       "      <td>2.737808</td>\n",
       "      <td>0.000000</td>\n",
       "      <td>11.511819</td>\n",
       "      <td>2.270555</td>\n",
       "      <td>5.643571</td>\n",
       "      <td>6.659994</td>\n",
       "      <td>6.449475</td>\n",
       "      <td>0.000000</td>\n",
       "      <td>...</td>\n",
       "      <td>2074.411105</td>\n",
       "      <td>4407.711040</td>\n",
       "      <td>4231.595947</td>\n",
       "      <td>3.828037</td>\n",
       "      <td>28014.35277</td>\n",
       "      <td>5268.006648</td>\n",
       "      <td>2115.152334</td>\n",
       "      <td>4026.730182</td>\n",
       "      <td>4382.923307</td>\n",
       "      <td>3.828037</td>\n",
       "    </tr>\n",
       "    <tr>\n",
       "      <th>2</th>\n",
       "      <td>2.414284</td>\n",
       "      <td>2.435714</td>\n",
       "      <td>2.619451</td>\n",
       "      <td>0.110869</td>\n",
       "      <td>6.318423</td>\n",
       "      <td>1.598481</td>\n",
       "      <td>12.464668</td>\n",
       "      <td>12.223106</td>\n",
       "      <td>16.709834</td>\n",
       "      <td>0.000000</td>\n",
       "      <td>...</td>\n",
       "      <td>4902.070427</td>\n",
       "      <td>6221.253794</td>\n",
       "      <td>6756.041732</td>\n",
       "      <td>41.366761</td>\n",
       "      <td>28398.30213</td>\n",
       "      <td>5453.057264</td>\n",
       "      <td>5403.850546</td>\n",
       "      <td>6790.927527</td>\n",
       "      <td>6488.592104</td>\n",
       "      <td>41.366761</td>\n",
       "    </tr>\n",
       "    <tr>\n",
       "      <th>4</th>\n",
       "      <td>1.203146</td>\n",
       "      <td>1.683577</td>\n",
       "      <td>1.357783</td>\n",
       "      <td>0.040405</td>\n",
       "      <td>5.137711</td>\n",
       "      <td>1.139386</td>\n",
       "      <td>6.464794</td>\n",
       "      <td>6.574934</td>\n",
       "      <td>8.495438</td>\n",
       "      <td>0.129821</td>\n",
       "      <td>...</td>\n",
       "      <td>6362.892566</td>\n",
       "      <td>8143.989417</td>\n",
       "      <td>6707.772619</td>\n",
       "      <td>73.478845</td>\n",
       "      <td>26801.32366</td>\n",
       "      <td>5497.433033</td>\n",
       "      <td>7672.996334</td>\n",
       "      <td>8910.334726</td>\n",
       "      <td>7411.409728</td>\n",
       "      <td>378.726081</td>\n",
       "    </tr>\n",
       "    <tr>\n",
       "      <th>5</th>\n",
       "      <td>5.755463</td>\n",
       "      <td>5.646298</td>\n",
       "      <td>5.600528</td>\n",
       "      <td>0.857679</td>\n",
       "      <td>13.127449</td>\n",
       "      <td>3.345745</td>\n",
       "      <td>39.757940</td>\n",
       "      <td>45.290742</td>\n",
       "      <td>45.473910</td>\n",
       "      <td>1.725471</td>\n",
       "      <td>...</td>\n",
       "      <td>9716.032294</td>\n",
       "      <td>20740.004580</td>\n",
       "      <td>14993.616410</td>\n",
       "      <td>25.327804</td>\n",
       "      <td>70621.28255</td>\n",
       "      <td>15002.921040</td>\n",
       "      <td>11399.550350</td>\n",
       "      <td>15132.957030</td>\n",
       "      <td>14600.263440</td>\n",
       "      <td>830.640224</td>\n",
       "    </tr>\n",
       "    <tr>\n",
       "      <th>...</th>\n",
       "      <td>...</td>\n",
       "      <td>...</td>\n",
       "      <td>...</td>\n",
       "      <td>...</td>\n",
       "      <td>...</td>\n",
       "      <td>...</td>\n",
       "      <td>...</td>\n",
       "      <td>...</td>\n",
       "      <td>...</td>\n",
       "      <td>...</td>\n",
       "      <td>...</td>\n",
       "      <td>...</td>\n",
       "      <td>...</td>\n",
       "      <td>...</td>\n",
       "      <td>...</td>\n",
       "      <td>...</td>\n",
       "      <td>...</td>\n",
       "      <td>...</td>\n",
       "      <td>...</td>\n",
       "      <td>...</td>\n",
       "      <td>...</td>\n",
       "    </tr>\n",
       "    <tr>\n",
       "      <th>484</th>\n",
       "      <td>5.822107</td>\n",
       "      <td>7.858378</td>\n",
       "      <td>7.062416</td>\n",
       "      <td>0.000000</td>\n",
       "      <td>24.293398</td>\n",
       "      <td>5.330605</td>\n",
       "      <td>4.772874</td>\n",
       "      <td>6.205787</td>\n",
       "      <td>5.783200</td>\n",
       "      <td>0.000000</td>\n",
       "      <td>...</td>\n",
       "      <td>3124.178205</td>\n",
       "      <td>2828.799036</td>\n",
       "      <td>3539.250480</td>\n",
       "      <td>42.803587</td>\n",
       "      <td>12010.49146</td>\n",
       "      <td>2560.318215</td>\n",
       "      <td>3431.163832</td>\n",
       "      <td>2619.396821</td>\n",
       "      <td>4008.245174</td>\n",
       "      <td>182.951658</td>\n",
       "    </tr>\n",
       "    <tr>\n",
       "      <th>485</th>\n",
       "      <td>17.507193</td>\n",
       "      <td>20.122659</td>\n",
       "      <td>20.965597</td>\n",
       "      <td>0.000000</td>\n",
       "      <td>61.567459</td>\n",
       "      <td>15.703871</td>\n",
       "      <td>9.398466</td>\n",
       "      <td>11.636656</td>\n",
       "      <td>11.136031</td>\n",
       "      <td>0.000000</td>\n",
       "      <td>...</td>\n",
       "      <td>5276.174247</td>\n",
       "      <td>8537.451062</td>\n",
       "      <td>6394.156159</td>\n",
       "      <td>32.891530</td>\n",
       "      <td>18372.68331</td>\n",
       "      <td>5051.514221</td>\n",
       "      <td>8444.112719</td>\n",
       "      <td>8676.255282</td>\n",
       "      <td>7660.203811</td>\n",
       "      <td>56.358143</td>\n",
       "    </tr>\n",
       "    <tr>\n",
       "      <th>486</th>\n",
       "      <td>21.281412</td>\n",
       "      <td>29.798872</td>\n",
       "      <td>27.151632</td>\n",
       "      <td>0.673401</td>\n",
       "      <td>111.377486</td>\n",
       "      <td>23.390194</td>\n",
       "      <td>12.417981</td>\n",
       "      <td>17.365955</td>\n",
       "      <td>15.991592</td>\n",
       "      <td>0.000000</td>\n",
       "      <td>...</td>\n",
       "      <td>5656.541808</td>\n",
       "      <td>7423.169092</td>\n",
       "      <td>7461.457152</td>\n",
       "      <td>131.592786</td>\n",
       "      <td>40064.40252</td>\n",
       "      <td>6629.017663</td>\n",
       "      <td>5641.395905</td>\n",
       "      <td>7449.876557</td>\n",
       "      <td>7575.331504</td>\n",
       "      <td>252.536458</td>\n",
       "    </tr>\n",
       "    <tr>\n",
       "      <th>487</th>\n",
       "      <td>6.009283</td>\n",
       "      <td>9.672707</td>\n",
       "      <td>9.769867</td>\n",
       "      <td>0.000000</td>\n",
       "      <td>51.870359</td>\n",
       "      <td>11.877773</td>\n",
       "      <td>3.968994</td>\n",
       "      <td>8.742207</td>\n",
       "      <td>7.988162</td>\n",
       "      <td>0.000000</td>\n",
       "      <td>...</td>\n",
       "      <td>6464.642804</td>\n",
       "      <td>6949.858834</td>\n",
       "      <td>8065.853413</td>\n",
       "      <td>27.631639</td>\n",
       "      <td>31695.41192</td>\n",
       "      <td>6373.651200</td>\n",
       "      <td>5570.699815</td>\n",
       "      <td>10221.545720</td>\n",
       "      <td>9024.355184</td>\n",
       "      <td>42.025952</td>\n",
       "    </tr>\n",
       "    <tr>\n",
       "      <th>488</th>\n",
       "      <td>13.518040</td>\n",
       "      <td>23.729690</td>\n",
       "      <td>15.836927</td>\n",
       "      <td>0.000000</td>\n",
       "      <td>78.843174</td>\n",
       "      <td>16.088099</td>\n",
       "      <td>9.286052</td>\n",
       "      <td>15.124939</td>\n",
       "      <td>10.286071</td>\n",
       "      <td>0.000000</td>\n",
       "      <td>...</td>\n",
       "      <td>6632.632510</td>\n",
       "      <td>8642.718336</td>\n",
       "      <td>7454.599102</td>\n",
       "      <td>6.664212</td>\n",
       "      <td>23413.18517</td>\n",
       "      <td>6382.813173</td>\n",
       "      <td>7659.714478</td>\n",
       "      <td>10089.321150</td>\n",
       "      <td>8216.732432</td>\n",
       "      <td>290.078270</td>\n",
       "    </tr>\n",
       "  </tbody>\n",
       "</table>\n",
       "<p>430 rows × 114 columns</p>\n",
       "</div>"
      ],
      "text/plain": [
       "     wrist_mvmnt_x_median  wrist_mvmnt_x_quartile_range  wrist_mvmnt_x_mean  \\\n",
       "0                4.238080                      4.234098            4.289725   \n",
       "1                2.353139                      2.676330            2.737808   \n",
       "2                2.414284                      2.435714            2.619451   \n",
       "4                1.203146                      1.683577            1.357783   \n",
       "5                5.755463                      5.646298            5.600528   \n",
       "..                    ...                           ...                 ...   \n",
       "484              5.822107                      7.858378            7.062416   \n",
       "485             17.507193                     20.122659           20.965597   \n",
       "486             21.281412                     29.798872           27.151632   \n",
       "487              6.009283                      9.672707            9.769867   \n",
       "488             13.518040                     23.729690           15.836927   \n",
       "\n",
       "     wrist_mvmnt_x_min  wrist_mvmnt_x_max  wrist_mvmnt_x_stdev  \\\n",
       "0             0.000000          20.329711             4.199564   \n",
       "1             0.000000          11.511819             2.270555   \n",
       "2             0.110869           6.318423             1.598481   \n",
       "4             0.040405           5.137711             1.139386   \n",
       "5             0.857679          13.127449             3.345745   \n",
       "..                 ...                ...                  ...   \n",
       "484           0.000000          24.293398             5.330605   \n",
       "485           0.000000          61.567459            15.703871   \n",
       "486           0.673401         111.377486            23.390194   \n",
       "487           0.000000          51.870359            11.877773   \n",
       "488           0.000000          78.843174            16.088099   \n",
       "\n",
       "     wrist_mvmnt_y_median  wrist_mvmnt_y_quartile_range  wrist_mvmnt_y_mean  \\\n",
       "0                8.462262                      8.810459            8.439464   \n",
       "1                5.643571                      6.659994            6.449475   \n",
       "2               12.464668                     12.223106           16.709834   \n",
       "4                6.464794                      6.574934            8.495438   \n",
       "5               39.757940                     45.290742           45.473910   \n",
       "..                    ...                           ...                 ...   \n",
       "484              4.772874                      6.205787            5.783200   \n",
       "485              9.398466                     11.636656           11.136031   \n",
       "486             12.417981                     17.365955           15.991592   \n",
       "487              3.968994                      8.742207            7.988162   \n",
       "488              9.286052                     15.124939           10.286071   \n",
       "\n",
       "     wrist_mvmnt_y_min  ...  acceleration_median_denoised  \\\n",
       "0             0.000000  ...                   3000.508475   \n",
       "1             0.000000  ...                   2074.411105   \n",
       "2             0.000000  ...                   4902.070427   \n",
       "4             0.129821  ...                   6362.892566   \n",
       "5             1.725471  ...                   9716.032294   \n",
       "..                 ...  ...                           ...   \n",
       "484           0.000000  ...                   3124.178205   \n",
       "485           0.000000  ...                   5276.174247   \n",
       "486           0.000000  ...                   5656.541808   \n",
       "487           0.000000  ...                   6464.642804   \n",
       "488           0.000000  ...                   6632.632510   \n",
       "\n",
       "     acceleration_quartile_range_denoised  acceleration_mean_denoised  \\\n",
       "0                             3328.705707                 3797.272636   \n",
       "1                             4407.711040                 4231.595947   \n",
       "2                             6221.253794                 6756.041732   \n",
       "4                             8143.989417                 6707.772619   \n",
       "5                            20740.004580                14993.616410   \n",
       "..                                    ...                         ...   \n",
       "484                           2828.799036                 3539.250480   \n",
       "485                           8537.451062                 6394.156159   \n",
       "486                           7423.169092                 7461.457152   \n",
       "487                           6949.858834                 8065.853413   \n",
       "488                           8642.718336                 7454.599102   \n",
       "\n",
       "     acceleration_min_denoised  acceleration_max_denoised  \\\n",
       "0                    38.649003                17384.22069   \n",
       "1                     3.828037                28014.35277   \n",
       "2                    41.366761                28398.30213   \n",
       "4                    73.478845                26801.32366   \n",
       "5                    25.327804                70621.28255   \n",
       "..                         ...                        ...   \n",
       "484                  42.803587                12010.49146   \n",
       "485                  32.891530                18372.68331   \n",
       "486                 131.592786                40064.40252   \n",
       "487                  27.631639                31695.41192   \n",
       "488                   6.664212                23413.18517   \n",
       "\n",
       "     acceleration_stdev_denoised  acceleration_median_trimmed  \\\n",
       "0                    3188.396515                  2902.806466   \n",
       "1                    5268.006648                  2115.152334   \n",
       "2                    5453.057264                  5403.850546   \n",
       "4                    5497.433033                  7672.996334   \n",
       "5                   15002.921040                 11399.550350   \n",
       "..                           ...                          ...   \n",
       "484                  2560.318215                  3431.163832   \n",
       "485                  5051.514221                  8444.112719   \n",
       "486                  6629.017663                  5641.395905   \n",
       "487                  6373.651200                  5570.699815   \n",
       "488                  6382.813173                  7659.714478   \n",
       "\n",
       "     acceleration_quartile_range_trimmed  acceleration_mean_trimmed  \\\n",
       "0                            2197.490376                3247.331833   \n",
       "1                            4026.730182                4382.923307   \n",
       "2                            6790.927527                6488.592104   \n",
       "4                            8910.334726                7411.409728   \n",
       "5                           15132.957030               14600.263440   \n",
       "..                                   ...                        ...   \n",
       "484                          2619.396821                4008.245174   \n",
       "485                          8676.255282                7660.203811   \n",
       "486                          7449.876557                7575.331504   \n",
       "487                         10221.545720                9024.355184   \n",
       "488                         10089.321150                8216.732432   \n",
       "\n",
       "     acceleration_min_trimmed  \n",
       "0                   38.649003  \n",
       "1                    3.828037  \n",
       "2                   41.366761  \n",
       "4                  378.726081  \n",
       "5                  830.640224  \n",
       "..                        ...  \n",
       "484                182.951658  \n",
       "485                 56.358143  \n",
       "486                252.536458  \n",
       "487                 42.025952  \n",
       "488                290.078270  \n",
       "\n",
       "[430 rows x 114 columns]"
      ]
     },
     "execution_count": 6,
     "metadata": {},
     "output_type": "execute_result"
    }
   ],
   "source": [
    "X"
   ]
  },
  {
   "cell_type": "code",
   "execution_count": 8,
   "id": "a91dd110",
   "metadata": {},
   "outputs": [],
   "source": [
    "#Handling missing data\n",
    "imputer=SimpleImputer(missing_values=np.nan,strategy=\"mean\")\n",
    "imputer.fit(X)#Give only numerical column\n",
    "X=imputer.transform(X)"
   ]
  },
  {
   "cell_type": "code",
   "execution_count": 9,
   "id": "c34a5cf0",
   "metadata": {},
   "outputs": [
    {
     "name": "stdout",
     "output_type": "stream",
     "text": [
      "     0  1  2\n",
      "0    0  0  1\n",
      "1    0  0  1\n",
      "2    0  1  0\n",
      "4    1  0  0\n",
      "5    1  0  0\n",
      "..  .. .. ..\n",
      "484  0  0  1\n",
      "485  0  0  1\n",
      "486  0  0  1\n",
      "487  0  0  1\n",
      "488  1  0  0\n",
      "\n",
      "[430 rows x 3 columns]\n"
     ]
    }
   ],
   "source": [
    "#one hot encoding\n",
    "one_hot_encoded_data = pd.get_dummies(y, columns = ['Rating'])\n",
    "print(one_hot_encoded_data)"
   ]
  },
  {
   "cell_type": "code",
   "execution_count": 10,
   "id": "df61d8e1",
   "metadata": {},
   "outputs": [],
   "source": [
    "X_train,X_test,y_train,y_test=train_test_split(X,y,test_size=0.05,random_state=0)"
   ]
  },
  {
   "cell_type": "code",
   "execution_count": 11,
   "id": "03724586",
   "metadata": {},
   "outputs": [
    {
     "name": "stdout",
     "output_type": "stream",
     "text": [
      "(408, 114)\n",
      "(22, 114)\n",
      "(408,)\n",
      "(22,)\n"
     ]
    }
   ],
   "source": [
    "print(X_train.shape)\n",
    "print(X_test.shape)\n",
    "print(y_train.shape)\n",
    "print(y_test.shape)"
   ]
  },
  {
   "cell_type": "code",
   "execution_count": 12,
   "id": "1341c369",
   "metadata": {},
   "outputs": [],
   "source": [
    "scaler = StandardScaler()\n",
    "X_train = scaler.fit_transform(X_train)\n",
    "X_test = scaler.transform(X_test)"
   ]
  },
  {
   "cell_type": "markdown",
   "id": "80ed8195",
   "metadata": {},
   "source": [
    "### Models Training"
   ]
  },
  {
   "cell_type": "code",
   "execution_count": 13,
   "id": "daa735c9",
   "metadata": {},
   "outputs": [],
   "source": [
    "#Libraries to Build Ensemble Model : Random Forest Classifier\n",
    "# Create the parameter grid based on the results of random search\n",
    "params_grid = [{'kernel': ['rbf'], 'gamma': [1e-3, 1e-4],\n",
    "                     'C': [1, 10, 100, 1000]},\n",
    "                    {'kernel': ['linear'], 'C': [1, 10, 100, 1000]}]"
   ]
  },
  {
   "cell_type": "code",
   "execution_count": 14,
   "id": "263f68f3",
   "metadata": {},
   "outputs": [
    {
     "data": {
      "text/plain": [
       "GridSearchCV(cv=5, estimator=SVC(),\n",
       "             param_grid=[{'C': [1, 10, 100, 1000], 'gamma': [0.001, 0.0001],\n",
       "                          'kernel': ['rbf']},\n",
       "                         {'C': [1, 10, 100, 1000], 'kernel': ['linear']}])"
      ]
     },
     "execution_count": 14,
     "metadata": {},
     "output_type": "execute_result"
    }
   ],
   "source": [
    "# Performing CV to tune parameters for best SVM fit\n",
    "svm_model = GridSearchCV(SVC(), params_grid, cv=5)\n",
    "svm_model.fit(X_train, y_train)"
   ]
  },
  {
   "cell_type": "code",
   "execution_count": 15,
   "id": "7950ec0c",
   "metadata": {},
   "outputs": [
    {
     "data": {
      "text/plain": [
       "array([1, 2, 0, 2, 1, 1, 0, 2, 2, 1, 2, 1, 2, 2, 0, 2, 1, 0, 2, 1, 1, 1],\n",
       "      dtype=int64)"
      ]
     },
     "execution_count": 15,
     "metadata": {},
     "output_type": "execute_result"
    }
   ],
   "source": [
    "final_model = svm_model.best_estimator_\n",
    "Y_pred = final_model.predict(X_test)\n",
    "Y_pred"
   ]
  },
  {
   "cell_type": "code",
   "execution_count": 16,
   "id": "f0691b10",
   "metadata": {},
   "outputs": [
    {
     "name": "stdout",
     "output_type": "stream",
     "text": [
      "Train Score:  0.7132352941176471\n",
      "Test Score:  0.6363636363636364\n"
     ]
    }
   ],
   "source": [
    "train_score=svm_model.score(X_train, y_train)\n",
    "test_score=svm_model.score(X_test, y_test)\n",
    "print('Train Score: ', train_score)  \n",
    "print('Test Score: ', test_score)  "
   ]
  },
  {
   "cell_type": "markdown",
   "id": "88a68bc0",
   "metadata": {},
   "source": [
    "### Model Prediction"
   ]
  },
  {
   "cell_type": "code",
   "execution_count": 17,
   "id": "36e2f096",
   "metadata": {},
   "outputs": [],
   "source": [
    "#Importing data\n",
    "data=pd.read_csv(\"features.csv\")"
   ]
  },
  {
   "cell_type": "code",
   "execution_count": 18,
   "id": "abad6472",
   "metadata": {},
   "outputs": [],
   "source": [
    "X=data.loc[:, 'wrist_mvmnt_x_median':'acceleration_min_trimmed']"
   ]
  },
  {
   "cell_type": "code",
   "execution_count": 19,
   "id": "973ae109",
   "metadata": {},
   "outputs": [
    {
     "data": {
      "text/plain": [
       "array([1], dtype=int64)"
      ]
     },
     "execution_count": 19,
     "metadata": {},
     "output_type": "execute_result"
    }
   ],
   "source": [
    "final_model.predict(X.values)"
   ]
  }
 ],
 "metadata": {
  "kernelspec": {
   "display_name": "Python 3 (ipykernel)",
   "language": "python",
   "name": "python3"
  },
  "language_info": {
   "codemirror_mode": {
    "name": "ipython",
    "version": 3
   },
   "file_extension": ".py",
   "mimetype": "text/x-python",
   "name": "python",
   "nbconvert_exporter": "python",
   "pygments_lexer": "ipython3",
   "version": "3.9.13"
  }
 },
 "nbformat": 4,
 "nbformat_minor": 5
}
